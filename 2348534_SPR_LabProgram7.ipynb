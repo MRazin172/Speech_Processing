{
  "nbformat": 4,
  "nbformat_minor": 0,
  "metadata": {
    "colab": {
      "provenance": [],
      "authorship_tag": "ABX9TyPDuQq+pbGcmp/Rn6JdQ3ND",
      "include_colab_link": true
    },
    "kernelspec": {
      "name": "python3",
      "display_name": "Python 3"
    },
    "language_info": {
      "name": "python"
    }
  },
  "cells": [
    {
      "cell_type": "markdown",
      "metadata": {
        "id": "view-in-github",
        "colab_type": "text"
      },
      "source": [
        "<a href=\"https://colab.research.google.com/github/MRazin172/Speech_Processing/blob/main/2348534_SPR_LabProgram7.ipynb\" target=\"_parent\"><img src=\"https://colab.research.google.com/assets/colab-badge.svg\" alt=\"Open In Colab\"/></a>"
      ]
    },
    {
      "cell_type": "code",
      "source": [
        "import numpy as np\n",
        "import random"
      ],
      "metadata": {
        "id": "0j9lpV-ikU1M"
      },
      "execution_count": 2,
      "outputs": []
    },
    {
      "cell_type": "markdown",
      "source": [
        "Represent the HMM parameters"
      ],
      "metadata": {
        "id": "bnlJW858kn5Z"
      }
    },
    {
      "cell_type": "code",
      "source": [
        "initial_probabilities = {\n",
        "    '/s/': 1.0,\n",
        "    '/p/': 0.0,\n",
        "    '/ie:/': 0.0,\n",
        "    '/tS/': 0.0\n",
        "}\n",
        "\n",
        "transition_probabilities = {\n",
        "    '/s/': {'/s/': 0.1, '/p/': 0.8, '/ie:/': 0.1, '/tS/': 0.0},\n",
        "    '/p/': {'/s/': 0.0, '/p/': 0.1, '/ie:/': 0.8, '/tS/': 0.1},\n",
        "    '/ie:/': {'/s/': 0.0, '/p/': 0.0, '/ie:/': 0.2, '/tS/': 0.8},\n",
        "    '/tS/': {'/s/': 0.2, '/p/': 0.0, '/ie:/': 0.0, '/tS/': 0.8}\n",
        "}\n",
        "\n",
        "emission_probabilities = {\n",
        "    '/s/': {'Energy': 0.7, 'Pitch': 0.2, 'Duration': 0.1},\n",
        "    '/p/': {'Energy': 0.5, 'Pitch': 0.3, 'Duration': 0.2},\n",
        "    '/ie:/': {'Energy': 0.3, 'Pitch': 0.5, 'Duration': 0.2},\n",
        "    '/tS/': {'Energy': 0.4, 'Pitch': 0.4, 'Duration': 0.2}\n",
        "}\n"
      ],
      "metadata": {
        "id": "q31gtnAekVQQ"
      },
      "execution_count": 3,
      "outputs": []
    },
    {
      "cell_type": "markdown",
      "source": [
        "Function to display transition and emission matrices"
      ],
      "metadata": {
        "id": "8qDZbykekbrq"
      }
    },
    {
      "cell_type": "code",
      "source": [
        "def display_hmm_parameters():\n",
        "    print(\"Initial Probabilities:\")\n",
        "    for state, prob in initial_probabilities.items():\n",
        "        print(f\"{state}: {prob}\")\n",
        "\n",
        "    print(\"\\nTransition Probabilities:\")\n",
        "    for from_state, transitions in transition_probabilities.items():\n",
        "        print(f\"{from_state}: {transitions}\")\n",
        "\n",
        "    print(\"\\nEmission Probabilities:\")\n",
        "    for state, emissions in emission_probabilities.items():\n",
        "        print(f\"{state}: {emissions}\")\n"
      ],
      "metadata": {
        "id": "etUYYa1VkVLs"
      },
      "execution_count": 4,
      "outputs": []
    },
    {
      "cell_type": "markdown",
      "source": [
        " Generate a single sequence of phonemes and observations"
      ],
      "metadata": {
        "id": "swWkgXdekgUf"
      }
    },
    {
      "cell_type": "code",
      "source": [
        "def generate_sequence():\n",
        "    phoneme_sequence = []\n",
        "    observation_sequence = []\n",
        "\n",
        "    # Start with the initial phoneme\n",
        "    current_phoneme = '/s/'\n",
        "    phoneme_sequence.append(current_phoneme)\n",
        "\n",
        "    while current_phoneme != '/tS/':\n",
        "        # Transition to the next phoneme based on probabilities\n",
        "        next_phoneme = random.choices(\n",
        "            list(transition_probabilities[current_phoneme].keys()),\n",
        "            list(transition_probabilities[current_phoneme].values())\n",
        "        )[0]\n",
        "        phoneme_sequence.append(next_phoneme)\n",
        "        current_phoneme = next_phoneme\n",
        "\n",
        "    # Generate observations for each phoneme\n",
        "    for phoneme in phoneme_sequence:\n",
        "        observation = random.choices(\n",
        "            list(emission_probabilities[phoneme].keys()),\n",
        "            list(emission_probabilities[phoneme].values())\n",
        "        )[0]\n",
        "        observation_sequence.append(observation)\n",
        "\n",
        "    return phoneme_sequence, observation_sequence\n"
      ],
      "metadata": {
        "id": "o7D2keBqkeB3"
      },
      "execution_count": 5,
      "outputs": []
    },
    {
      "cell_type": "code",
      "source": [
        "display_hmm_parameters()\n"
      ],
      "metadata": {
        "colab": {
          "base_uri": "https://localhost:8080/"
        },
        "id": "xJhoaYhJkjd0",
        "outputId": "567dab5f-5ee3-49e8-912f-5cfcfecbba9d"
      },
      "execution_count": 6,
      "outputs": [
        {
          "output_type": "stream",
          "name": "stdout",
          "text": [
            "Initial Probabilities:\n",
            "/s/: 1.0\n",
            "/p/: 0.0\n",
            "/ie:/: 0.0\n",
            "/tS/: 0.0\n",
            "\n",
            "Transition Probabilities:\n",
            "/s/: {'/s/': 0.1, '/p/': 0.8, '/ie:/': 0.1, '/tS/': 0.0}\n",
            "/p/: {'/s/': 0.0, '/p/': 0.1, '/ie:/': 0.8, '/tS/': 0.1}\n",
            "/ie:/: {'/s/': 0.0, '/p/': 0.0, '/ie:/': 0.2, '/tS/': 0.8}\n",
            "/tS/: {'/s/': 0.2, '/p/': 0.0, '/ie:/': 0.0, '/tS/': 0.8}\n",
            "\n",
            "Emission Probabilities:\n",
            "/s/: {'Energy': 0.7, 'Pitch': 0.2, 'Duration': 0.1}\n",
            "/p/: {'Energy': 0.5, 'Pitch': 0.3, 'Duration': 0.2}\n",
            "/ie:/: {'Energy': 0.3, 'Pitch': 0.5, 'Duration': 0.2}\n",
            "/tS/: {'Energy': 0.4, 'Pitch': 0.4, 'Duration': 0.2}\n"
          ]
        }
      ]
    },
    {
      "cell_type": "code",
      "execution_count": 7,
      "metadata": {
        "colab": {
          "base_uri": "https://localhost:8080/"
        },
        "id": "0MN35EAwjBey",
        "outputId": "84c704de-ab89-4180-e75b-11fca4f83bc5"
      },
      "outputs": [
        {
          "output_type": "stream",
          "name": "stdout",
          "text": [
            "\n",
            "Generated Phoneme Sequence: ['/s/', '/ie:/', '/tS/']\n",
            "Generated Observation Sequence: ['Pitch', 'Energy', 'Pitch']\n"
          ]
        }
      ],
      "source": [
        "phoneme_sequence, observation_sequence = generate_sequence()\n",
        "\n",
        "print(\"\\nGenerated Phoneme Sequence:\", phoneme_sequence)\n",
        "print(\"Generated Observation Sequence:\", observation_sequence)\n"
      ]
    },
    {
      "cell_type": "markdown",
      "source": [
        "### Explanation of the Implementation:\n",
        "1. **Initial Probabilities**: The phoneme `/s/` starts with a probability of 1, meaning the sequence always begins with `/s/`.\n",
        "2. **Transition Probabilities**: Represent the likelihood of moving from one phoneme to another. For instance, `/s/` transitions to `/p/` with a probability of 0.8.\n",
        "3. **Emission Probabilities**: Represent the likelihood of observations (e.g., energy, pitch, duration) for each phoneme.\n",
        "4. **Sequence Generation**:\n",
        "   - Starts with `/s/` as the first phoneme.\n",
        "   - Selects the next phoneme based on the transition probabilities.\n",
        "   - Generates corresponding observations based on emission probabilities.\n",
        "\n",
        "This will produce sequences like the expected output. The function `generate_sequence` ensures the transitions align with the HMM structure."
      ],
      "metadata": {
        "id": "yplM-xQMkp_M"
      }
    },
    {
      "cell_type": "markdown",
      "source": [
        "### Inference for the HMM Implementation\n",
        "\n",
        "The Hidden Markov Model (HMM) for simulating phoneme transitions in the word *\"speech\"* successfully generated the following results:  \n",
        "\n",
        "- **Generated Phoneme Sequence**: `/s/ → /ie:/ → /tS/`  \n",
        "- **Generated Observation Sequence**: `Pitch → Energy → Pitch`\n",
        "\n",
        "#### Key Observations:\n",
        "1. **Phoneme Transitions**:\n",
        "   - The sequence starts with `/s/`, as expected, based on the initial probability of 1.\n",
        "   - The transition from `/s/` to `/ie:/` and subsequently to `/tS/` aligns with the defined transition probabilities. Each transition reflects the probabilistic behavior modeled in the transition matrix.\n",
        "   \n",
        "2. **Observation Emission**:\n",
        "   - The observations (`Pitch`, `Energy`, `Pitch`) were emitted in alignment with the emission probabilities for each phoneme.\n",
        "   - For example, `/s/` emits `Pitch` with a 0.2 probability, and `/ie:/` emits `Energy` with a 0.3 probability. This showcases the probabilistic generation of observable properties based on hidden states.\n",
        "\n",
        "#### Interpretation of the HMM's Behavior:\n",
        "- The generated sequences validate that the HMM accurately models the phoneme transitions and their corresponding observations. It captures both the underlying structure of phoneme transitions and the stochastic nature of acoustic property emissions.\n",
        "- The result demonstrates that the HMM can effectively simulate the dynamic behavior of speech processing, making it a suitable model for applications in phoneme recognition, speech synthesis, or automated speech analysis.\n"
      ],
      "metadata": {
        "id": "6-86ZM9plHCu"
      }
    }
  ]
}