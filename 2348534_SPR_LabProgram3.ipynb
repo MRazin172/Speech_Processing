{
  "nbformat": 4,
  "nbformat_minor": 0,
  "metadata": {
    "colab": {
      "provenance": [],
      "authorship_tag": "ABX9TyMpiXOE2J0Ape0YmNLRkOFT",
      "include_colab_link": true
    },
    "kernelspec": {
      "name": "python3",
      "display_name": "Python 3"
    },
    "language_info": {
      "name": "python"
    }
  },
  "cells": [
    {
      "cell_type": "markdown",
      "metadata": {
        "id": "view-in-github",
        "colab_type": "text"
      },
      "source": [
        "<a href=\"https://colab.research.google.com/github/MRazin172/Speech_Processing/blob/main/2348534_SPR_LabProgram3.ipynb\" target=\"_parent\"><img src=\"https://colab.research.google.com/assets/colab-badge.svg\" alt=\"Open In Colab\"/></a>"
      ]
    },
    {
      "cell_type": "code",
      "execution_count": null,
      "metadata": {
        "colab": {
          "base_uri": "https://localhost:8080/"
        },
        "id": "64cmg4WNFu2o",
        "outputId": "0cc17eac-937a-4a0b-eefc-cf0a7d76e29f"
      },
      "outputs": [
        {
          "output_type": "stream",
          "name": "stdout",
          "text": [
            "Collecting SpeechRecognition\n",
            "  Downloading SpeechRecognition-3.10.4-py2.py3-none-any.whl.metadata (28 kB)\n",
            "Collecting pydub\n",
            "  Downloading pydub-0.25.1-py2.py3-none-any.whl.metadata (1.4 kB)\n",
            "Requirement already satisfied: requests>=2.26.0 in /usr/local/lib/python3.10/dist-packages (from SpeechRecognition) (2.32.3)\n",
            "Requirement already satisfied: typing-extensions in /usr/local/lib/python3.10/dist-packages (from SpeechRecognition) (4.12.2)\n",
            "Requirement already satisfied: charset-normalizer<4,>=2 in /usr/local/lib/python3.10/dist-packages (from requests>=2.26.0->SpeechRecognition) (3.3.2)\n",
            "Requirement already satisfied: idna<4,>=2.5 in /usr/local/lib/python3.10/dist-packages (from requests>=2.26.0->SpeechRecognition) (3.10)\n",
            "Requirement already satisfied: urllib3<3,>=1.21.1 in /usr/local/lib/python3.10/dist-packages (from requests>=2.26.0->SpeechRecognition) (2.2.3)\n",
            "Requirement already satisfied: certifi>=2017.4.17 in /usr/local/lib/python3.10/dist-packages (from requests>=2.26.0->SpeechRecognition) (2024.8.30)\n",
            "Downloading SpeechRecognition-3.10.4-py2.py3-none-any.whl (32.8 MB)\n",
            "\u001b[2K   \u001b[90m━━━━━━━━━━━━━━━━━━━━━━━━━━━━━━━━━━━━━━━━\u001b[0m \u001b[32m32.8/32.8 MB\u001b[0m \u001b[31m15.8 MB/s\u001b[0m eta \u001b[36m0:00:00\u001b[0m\n",
            "\u001b[?25hDownloading pydub-0.25.1-py2.py3-none-any.whl (32 kB)\n",
            "Installing collected packages: pydub, SpeechRecognition\n",
            "Successfully installed SpeechRecognition-3.10.4 pydub-0.25.1\n"
          ]
        }
      ],
      "source": [
        "pip install SpeechRecognition pydub\n"
      ]
    },
    {
      "cell_type": "code",
      "source": [
        "import speech_recognition as sr\n",
        "\n",
        "# Initialize recognizer class (for recognizing the speech)\n",
        "recognizer = sr.Recognizer()\n",
        "\n",
        "# Load the .wav file\n",
        "wav_file = \"/content/16-122828-0002.wav\"  # Replace with the path to your wav file\n",
        "\n",
        "# Open the audio file using speech_recognition's AudioFile class\n",
        "with sr.AudioFile(wav_file) as source:\n",
        "    # Listen to the audio file and store it in audio_data\n",
        "    audio_data = recognizer.record(source)\n",
        "\n",
        "    # Recognize (convert from speech to text)\n",
        "    try:\n",
        "        text = recognizer.recognize_google(audio_data)\n",
        "        print(\"Transcription: \", text)\n",
        "    except sr.UnknownValueError:\n",
        "        print(\"Google Speech Recognition could not understand the audio\")\n",
        "    except sr.RequestError as e:\n",
        "        print(f\"Could not request results from Google Speech Recognition service; {e}\")\n"
      ],
      "metadata": {
        "colab": {
          "base_uri": "https://localhost:8080/"
        },
        "id": "LSDRRbD_Gmlb",
        "outputId": "e68e52df-d233-4794-b2c5-b5a0c98ca4dc"
      },
      "execution_count": null,
      "outputs": [
        {
          "output_type": "stream",
          "name": "stdout",
          "text": [
            "Transcription:  I believe you are just talking nonsense\n"
          ]
        }
      ]
    },
    {
      "cell_type": "code",
      "source": [
        "# Open the audio file using speech_recognition's AudioFile class\n",
        "with sr.AudioFile(wav_file) as source:\n",
        "    print(\"Processing audio...\")\n",
        "    # Listen to the audio file and store it in audio_data\n",
        "    audio_data = recognizer.record(source)\n",
        "\n",
        "    # Try to recognize speech using Google Web Speech API\n",
        "    try:\n",
        "        text = recognizer.recognize_google(audio_data)\n",
        "        print(\"Transcription: \", text)\n",
        "\n",
        "    # Handling Unclear Speech\n",
        "    except sr.UnknownValueError:\n",
        "        print(\"Unclear speech detected: The speech was unintelligible. Please speak clearly.\")\n",
        "\n",
        "    # Handling Connection Issues\n",
        "    except sr.RequestError as e:\n",
        "        print(f\"Connection error: Could not request results from Google Speech Recognition service; {e}\")\n",
        "\n",
        "    # General Exception Handling for Unexpected Errors\n",
        "    except Exception as e:\n",
        "        print(f\"An unexpected error occurred: {e}\")\n"
      ],
      "metadata": {
        "colab": {
          "base_uri": "https://localhost:8080/"
        },
        "id": "mBQSDmlHGuhr",
        "outputId": "fffd25e9-1165-4bdb-9ecc-53b9be6aa7a8"
      },
      "execution_count": null,
      "outputs": [
        {
          "output_type": "stream",
          "name": "stdout",
          "text": [
            "Processing audio...\n",
            "Transcription:  I believe you are just talking nonsense\n"
          ]
        }
      ]
    },
    {
      "cell_type": "code",
      "source": [
        "print(\"Speak something or upload an audio file for transcription...\")\n",
        "\n",
        "# Open the audio file using speech_recognition's AudioFile class\n",
        "with sr.AudioFile(wav_file) as source:\n",
        "    print(\"Recognizing your speech, please wait...\")  # Feedback: 'Recognizing'\n",
        "\n",
        "    # Listen to the audio file and store it in audio_data\n",
        "    audio_data = recognizer.record(source)\n",
        "\n",
        "    try:\n",
        "        # Recognizing the speech\n",
        "        text = recognizer.recognize_google(audio_data)\n",
        "\n",
        "        # Feedback after recognition\n",
        "        print(f'Speech recognized: \"{text}\"')  # Feedback: 'Speech recognized'\n",
        "        print(\"Speech successfully converted to text!\")  # Feedback: 'Speech successfully converted'\n",
        "\n",
        "    # Handling Unclear Speech\n",
        "    except sr.UnknownValueError:\n",
        "        print(\"Speech Recognition could not understand audio, please try speaking more clearly.\")  # Feedback: 'Speech unclear'\n",
        "\n",
        "    # Handling Connection Issues\n",
        "    except sr.RequestError as e:\n",
        "        print(f\"Connection error: Could not request results from Google Speech Recognition service; {e}\")\n",
        "\n",
        "    # General Exception Handling for Unexpected Errors\n",
        "    except Exception as e:\n",
        "        print(f\"An unexpected error occurred: {e}\")"
      ],
      "metadata": {
        "id": "SY6P61nZHnJO",
        "outputId": "20025936-7c81-4ba8-f1ac-111100390103",
        "colab": {
          "base_uri": "https://localhost:8080/"
        }
      },
      "execution_count": null,
      "outputs": [
        {
          "output_type": "stream",
          "name": "stdout",
          "text": [
            "Speak something or upload an audio file for transcription...\n",
            "Recognizing your speech, please wait...\n",
            "Speech recognized: \"I believe you are just talking nonsense\"\n",
            "Speech successfully converted to text!\n"
          ]
        }
      ]
    },
    {
      "cell_type": "markdown",
      "source": [
        "### Brief Note on the Execution of the Speech Recognition System:\n",
        "\n",
        "The designed speech recognition system efficiently converts speech into text using Python’s `speech_recognition` library. The system begins by prompting the user to provide audio input or upload a speech file (e.g., a `.wav` file). Once the audio is captured, the system attempts to recognize and convert the speech into text, providing real-time feedback at every step to enhance the user experience.\n",
        "\n",
        "### Key Stages of Execution:\n",
        "\n",
        "1. **Initial Prompt**: The system prompts the user to either speak or upload a pre-recorded audio file.\n",
        "   - **Feedback**: \"Speak something or upload an audio file for transcription...\"\n",
        "\n",
        "2. **Recognition Process**: The system informs the user that it is processing the audio to convert the speech to text.\n",
        "   - **Feedback**: \"Recognizing your speech, please wait...\"\n",
        "\n",
        "3. **Successful Conversion**: If the speech is clearly recognized, the system outputs the transcribed text and confirms that the conversion was successful.\n",
        "   - **Feedback**: \"Speech recognized: 'Your converted text'\"  \n",
        "   - **Feedback**: \"Speech successfully converted to text!\"\n",
        "\n",
        "4. **Handling Unclear Speech**: If the speech is unclear or indistinct, the system prompts the user to retry by speaking more clearly, thus addressing any intelligibility issues.\n",
        "   - **Feedback**: \"Speech Recognition could not understand audio, please try speaking more clearly.\"\n",
        "\n",
        "5. **Handling Connectivity Issues**: The system also handles potential connectivity errors with the external recognition service (Google API) and provides an error message when the connection fails.\n",
        "\n",
        "6. **General Error Handling**: Any other unexpected errors are caught and reported, ensuring the program remains robust.\n",
        "\n",
        "### Overall Inference:\n",
        "\n",
        "The system is designed to be user-friendly, providing meaningful and timely feedback at each stage of interaction. It uses exception handling to manage common errors like unclear speech or service connection issues, ensuring a smooth user experience. The system’s flexibility allows it to handle both live speech and pre-recorded audio files, making it a versatile solution for speech-to-text conversion tasks."
      ],
      "metadata": {
        "id": "OiQQqpQSg-1Q"
      }
    }
  ]
}